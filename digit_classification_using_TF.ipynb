{
  "cells": [
    {
      "cell_type": "markdown",
      "metadata": {
        "id": "MYOZZqHQtTq1"
      },
      "source": [
        "# Introduction\n",
        "\n",
        "This graph describes the problem that we are trying to solve visually. We want to create and train a model that takes an image of a hand written digit as input and predicts the class of that digit, that is, it predicts the digit or it predicts the class of the input image.\n",
        "\n",
        "![Hand Written Digits Classification](images/1_1.png)"
      ]
    },
    {
      "cell_type": "markdown",
      "metadata": {
        "id": "JALWzGQ4tTq5"
      },
      "source": [
        "### Import TensorFlow"
      ]
    },
    {
      "cell_type": "code",
      "execution_count": 20,
      "metadata": {
        "colab": {
          "base_uri": "https://localhost:8080/"
        },
        "id": "qQAR25dOtTq7",
        "outputId": "8542c10d-d33e-4f19-e175-00c5d001ccc6"
      },
      "outputs": [
        {
          "output_type": "stream",
          "name": "stdout",
          "text": [
            "Using TensorFlow version 2.8.2\n"
          ]
        }
      ],
      "source": [
        "import tensorflow as tf\n",
        "\n",
        "tf.compat.v1.logging.set_verbosity(tf.compat.v1.logging.ERROR)\n",
        "print('Using TensorFlow version', tf.__version__)"
      ]
    },
    {
      "cell_type": "markdown",
      "metadata": {
        "id": "qQjLxuCctTq-"
      },
      "source": [
        "# The Dataset\n",
        "### Import MNIST"
      ]
    },
    {
      "cell_type": "code",
      "execution_count": 21,
      "metadata": {
        "id": "qJSAlWY4tTq_"
      },
      "outputs": [],
      "source": [
        "from tensorflow.keras.datasets import mnist\n",
        "(x_train, y_train), (x_test, y_test)  = mnist.load_data()"
      ]
    },
    {
      "cell_type": "markdown",
      "metadata": {
        "id": "ZK4a-jjWtTrA"
      },
      "source": [
        "### Shapes of Imported Arrays"
      ]
    },
    {
      "cell_type": "code",
      "execution_count": 22,
      "metadata": {
        "colab": {
          "base_uri": "https://localhost:8080/"
        },
        "id": "KZp7k7n_tTrB",
        "outputId": "1d4ee461-2c0e-41b1-ecc0-84511c7fe172"
      },
      "outputs": [
        {
          "output_type": "stream",
          "name": "stdout",
          "text": [
            "x_train shape:  (60000, 28, 28)\n",
            "y_train shape:  (60000,)\n",
            "x_test shape:  (10000, 28, 28)\n",
            "y_test shape:  (10000,)\n"
          ]
        }
      ],
      "source": [
        "print('x_train shape: ', x_train.shape)\n",
        "print('y_train shape: ', y_train.shape)\n",
        "print('x_test shape: ', x_test.shape)\n",
        "print('y_test shape: ', y_test.shape)"
      ]
    },
    {
      "cell_type": "markdown",
      "metadata": {
        "id": "5BAKV5CetTrD"
      },
      "source": [
        "### Plot an Image Example"
      ]
    },
    {
      "cell_type": "code",
      "execution_count": 23,
      "metadata": {
        "colab": {
          "base_uri": "https://localhost:8080/",
          "height": 265
        },
        "id": "Mp7e_TkptTrG",
        "outputId": "8d4a89c7-de20-473e-e80d-7049cc84bffe"
      },
      "outputs": [
        {
          "output_type": "display_data",
          "data": {
            "text/plain": [
              "<Figure size 432x288 with 1 Axes>"
            ],
            "image/png": "[encoded data removed]"
          },
          "metadata": {
            "needs_background": "light"
          }
        }
      ],
      "source": [
        "from matplotlib import pyplot as plt\n",
        "%matplotlib inline\n",
        "\n",
        "plt.imshow(x_train[0], cmap = 'binary')\n",
        "plt.show()"
      ]
    },
    {
      "cell_type": "markdown",
      "metadata": {
        "id": "HiSontu-tTrH"
      },
      "source": [
        "### Display Labels"
      ]
    },
    {
      "cell_type": "code",
      "execution_count": 24,
      "metadata": {
        "colab": {
          "base_uri": "https://localhost:8080/"
        },
        "id": "lVOUas-ctTrI",
        "outputId": "8bd934fb-f81b-4b94-ed0d-9260fef98aa0"
      },
      "outputs": [
        {
          "output_type": "execute_result",
          "data": {
            "text/plain": [
              "5"
            ]
          },
          "metadata": {},
          "execution_count": 24
        }
      ],
      "source": [
        "y_train[0]"
      ]
    },
    {
      "cell_type": "code",
      "execution_count": 25,
      "metadata": {
        "colab": {
          "base_uri": "https://localhost:8080/"
        },
        "id": "tcw9TQlytTrJ",
        "outputId": "786c44ae-61c0-40c6-f3bd-8171d8faffaa"
      },
      "outputs": [
        {
          "output_type": "stream",
          "name": "stdout",
          "text": [
            "{0, 1, 2, 3, 4, 5, 6, 7, 8, 9}\n"
          ]
        }
      ],
      "source": [
        "print(set(y_train))"
      ]
    },
    {
      "cell_type": "markdown",
      "metadata": {
        "id": "7YqT7k1ItTrJ"
      },
      "source": [
        "# One Hot Encoding\n",
        "After this encoding, every label will be converted to a list with 10 elements and the element at index to the corresponding class will be set to 1, rest will be set to 0:\n",
        "\n",
        "| original label | one-hot encoded label |\n",
        "|------|------|\n",
        "| 5 | [0, 0, 0, 0, 0, 1, 0, 0, 0, 0] |\n",
        "| 7 | [0, 0, 0, 0, 0, 0, 0, 1, 0, 0] |\n",
        "| 1 | [0, 1, 0, 0, 0, 0, 0, 0, 0, 0] |\n",
        "\n",
        "### Encoding Labels"
      ]
    },
    {
      "cell_type": "code",
      "execution_count": 26,
      "metadata": {
        "id": "B91N1134tTrL"
      },
      "outputs": [],
      "source": [
        "from tensorflow.keras.utils import to_categorical\n",
        "y_train_encoded = to_categorical(y_train)\n",
        "y_test_encoded = to_categorical(y_test)"
      ]
    },
    {
      "cell_type": "markdown",
      "metadata": {
        "id": "wwuAsfd5tTrM"
      },
      "source": [
        "### Validated Shapes"
      ]
    },
    {
      "cell_type": "code",
      "execution_count": 27,
      "metadata": {
        "colab": {
          "base_uri": "https://localhost:8080/"
        },
        "id": "8G7UdYKStTrN",
        "outputId": "ded4a656-021a-4b2f-f285-8f8f32be4b01"
      },
      "outputs": [
        {
          "output_type": "stream",
          "name": "stdout",
          "text": [
            "y_train_encoded shape:  (60000, 10)\n",
            "y_test_encoded shape:  (10000, 10)\n"
          ]
        }
      ],
      "source": [
        "print('y_train_encoded shape: ', y_train_encoded.shape)\n",
        "print('y_test_encoded shape: ', y_test_encoded.shape)"
      ]
    },
    {
      "cell_type": "markdown",
      "metadata": {
        "id": "YixJAAOVtTrP"
      },
      "source": [
        "### Display Encoded Labels"
      ]
    },
    {
      "cell_type": "code",
      "execution_count": 28,
      "metadata": {
        "colab": {
          "base_uri": "https://localhost:8080/"
        },
        "id": "E6WEOd9_tTrQ",
        "outputId": "528a3137-4013-4ad2-ab21-a96d70cc329c"
      },
      "outputs": [
        {
          "output_type": "execute_result",
          "data": {
            "text/plain": [
              "array([0., 0., 0., 0., 0., 1., 0., 0., 0., 0.], dtype=float32)"
            ]
          },
          "metadata": {},
          "execution_count": 28
        }
      ],
      "source": [
        "y_train_encoded[0]"
      ]
    },
    {
      "cell_type": "markdown",
      "metadata": {
        "id": "VhcI8DhTtTrQ"
      },
      "source": [
        "# Neural Networks\n",
        "\n",
        "### Linear Equations\n",
        "\n",
        "![Single Neuron](images/1_2.png)\n",
        "\n",
        "The above graph simply represents the equation:\n",
        "\n",
        "\\begin{equation}\n",
        "y = w1 * x1 + w2 * x2 + w3 * x3 + b\n",
        "\\end{equation}\n",
        "\n",
        "Where the `w1, w2, w3` are called the weights and `b` is an intercept term called bias. The equation can also be *vectorised* like this:\n",
        "\n",
        "\\begin{equation}\n",
        "y = W . X + b\n",
        "\\end{equation}\n",
        "\n",
        "Where `X = [x1, x2, x3]` and `W = [w1, w2, w3].T`. The .T means *transpose*. This is because we want the dot product to give us the result we want i.e. `w1 * x1 + w2 * x2 + w3 * x3`. This gives us the vectorised version of our linear equation.\n",
        "\n",
        "A simple, linear approach to solving hand-written image classification problem - could it work?\n",
        "\n",
        "![Single Neuron with 784 features](images/1_3.png)\n",
        "\n",
        "### Neural Networks\n",
        "\n",
        "![Neural Network with 2 hidden layers](images/1_4.png)\n",
        "\n",
        "This model is much more likely to solve the problem as it can learn more complex function mapping for the inputs and outputs in our dataset."
      ]
    },
    {
      "cell_type": "markdown",
      "metadata": {
        "id": "_CFiXXVjtTrS"
      },
      "source": [
        "# Preprocessing the Examples\n",
        "\n",
        "### Unrolling N-dimensional Arrays to Vectors"
      ]
    },
    {
      "cell_type": "code",
      "execution_count": 29,
      "metadata": {
        "id": "29cnb-DotTrU",
        "colab": {
          "base_uri": "https://localhost:8080/"
        },
        "outputId": "b747ea17-a4e2-4b03-f10f-d94f2e0eb343"
      },
      "outputs": [
        {
          "output_type": "stream",
          "name": "stdout",
          "text": [
            "x_train_reshaped shape  (60000, 784)\n"
          ]
        }
      ],
      "source": [
        "import numpy as np\n",
        "\n",
        "x_train_reshaped = np.reshape(x_train, (60000, 784))\n",
        "x_test_reshaped = np.reshape(x_test, (10000, 784))\n",
        "\n",
        "print('x_train_reshaped shape ', x_train_reshaped.shape)"
      ]
    },
    {
      "cell_type": "markdown",
      "metadata": {
        "id": "3xcmyz5FtTrU"
      },
      "source": [
        "### Display Pixel Values"
      ]
    },
    {
      "cell_type": "code",
      "execution_count": 30,
      "metadata": {
        "id": "MKk0UFJ0tTrV",
        "colab": {
          "base_uri": "https://localhost:8080/"
        },
        "outputId": "875938fd-148c-449c-c357-c5709f970983"
      },
      "outputs": [
        {
          "output_type": "stream",
          "name": "stdout",
          "text": [
            "{0, 1, 2, 3, 9, 11, 14, 16, 18, 23, 24, 25, 26, 27, 30, 35, 36, 39, 43, 45, 46, 49, 55, 56, 64, 66, 70, 78, 80, 81, 82, 90, 93, 94, 107, 108, 114, 119, 126, 127, 130, 132, 133, 135, 136, 139, 148, 150, 154, 156, 160, 166, 170, 171, 172, 175, 182, 183, 186, 187, 190, 195, 198, 201, 205, 207, 212, 213, 219, 221, 225, 226, 229, 238, 240, 241, 242, 244, 247, 249, 250, 251, 252, 253, 255}\n"
          ]
        }
      ],
      "source": [
        "print(set(x_train_reshaped[0]))"
      ]
    },
    {
      "cell_type": "markdown",
      "metadata": {
        "id": "Zi2YAGvptTrV"
      },
      "source": [
        "### Data Normalization"
      ]
    },
    {
      "cell_type": "code",
      "execution_count": 31,
      "metadata": {
        "id": "eX4fyDuVtTrV"
      },
      "outputs": [],
      "source": [
        "x_mean = np.mean(x_train_reshaped)\n",
        "x_std = np.std(x_train_reshaped)\n",
        "\n",
        "epsilon = 1e-10\n",
        "\n",
        "x_train_norm = (x_train_reshaped - x_mean) / (x_std + epsilon) #refer point 1 below\n",
        "x_test_norm = (x_test_reshaped - x_mean) / (x_std + epsilon) #refer point 2 below"
      ]
    },
    {
      "cell_type": "markdown",
      "source": [
        "1. Usually for normalization we only divide by standard deviation but if the standard deviation is very low it can cause instability in our model therefore we add another small value to it(epsilon), which generally solves the issue\n",
        "<br><br>\n",
        "2.For normalizing test data we still use the mean and std of training data as we should be soing the same preprocessing on both data, using the mean of testing data could introduced unnecessary bias in the result"
      ],
      "metadata": {
        "id": "1yuHhEoJSX3L"
      }
    },
    {
      "cell_type": "markdown",
      "metadata": {
        "id": "yCCoDMOgtTrW"
      },
      "source": [
        "### Display Normalized Pixel Values"
      ]
    },
    {
      "cell_type": "code",
      "execution_count": 32,
      "metadata": {
        "id": "6mowq4xstTrW",
        "colab": {
          "base_uri": "https://localhost:8080/"
        },
        "outputId": "9bbf3f90-2abe-4329-de03-67108804dbba"
      },
      "outputs": [
        {
          "output_type": "stream",
          "name": "stdout",
          "text": [
            "{-0.38589016215482896, 1.306921966983251, 1.17964285952926, 1.803310486053816, 1.6887592893452241, 2.8215433456857437, 2.719720059722551, 1.1923707702746593, 1.7396709323268205, 2.057868700961798, 2.3633385588513764, 2.096052433197995, 1.7651267538176187, 2.7960875241949457, 2.7451758812133495, 2.45243393406917, 0.02140298169794222, -0.22042732246464067, 1.2305545025108566, 0.2759611966059242, 2.210603629906587, 2.6560805059955555, 2.6051688630139593, -0.4240738943910262, 0.4668798577869107, 0.1486820891519332, 0.3905123933145161, 1.0905474843114664, -0.09314821501064967, 1.4851127174188385, 2.7579037919587486, 1.5360243604004349, 0.07231462467953861, -0.13133194724684696, 1.294194056237852, 0.03413089244334132, 1.3451056992194483, 2.274243183633583, -0.24588314395543887, 0.772349715676489, 0.75962180493109, 0.7214380726948927, 0.1995937321335296, -0.41134598364562713, 0.5687031437501034, 0.5941589652409017, 0.9378125553666773, 0.9505404661120763, 0.6068868759863008, 0.4159682148053143, -0.042236572029053274, 2.7706317027041476, 2.1342361654341926, 0.12322626766113501, -0.08042030426525057, 0.16140999989733232, 1.8924058612716097, 1.2560103240016547, 2.185147808415789, 0.6196147867316999, 1.943317504253206, -0.11860403650144787, -0.30952269768243434, 1.9942291472348024, -0.2840668761916362, 2.6306246845047574, 2.286971094378982, -0.19497150097384247, -0.39861807290022805, 0.2886891073513233, 1.7523988430722195, 2.3887943803421745, 2.681536327486354, 1.4596568959280403, 2.439706023323771, 2.7833596134495466, 2.490617666305367, -0.10587612575604877, 1.5614801818912332, 1.9051337720170087, 1.6123918248728295, 1.268738234747054, 1.9560454149986053, 2.6433525952501564, 1.026907930584471}\n"
          ]
        }
      ],
      "source": [
        "print(set(x_train_norm[0]))"
      ]
    },
    {
      "cell_type": "markdown",
      "metadata": {
        "id": "mH3on3ostTrW"
      },
      "source": [
        "# Creating a Model\n",
        "### Creating the Model"
      ]
    },
    {
      "cell_type": "code",
      "execution_count": 33,
      "metadata": {
        "id": "e54q8IMxtTrW"
      },
      "outputs": [],
      "source": [
        "from tensorflow.keras.models import Sequential\n",
        "from tensorflow.keras.layers import Dense\n",
        "\n",
        "model = Sequential([\n",
        "    Dense(128, activation = 'relu', input_shape=(784,)),\n",
        "    Dense(128,activation = 'relu'),\n",
        "    Dense(10, activation = 'softmax')\n",
        "])"
      ]
    },
    {
      "cell_type": "markdown",
      "metadata": {
        "id": "49grxxV-tTrX"
      },
      "source": [
        "### Activation Functions\n",
        "\n",
        "The first step in the node is the linear sum of the inputs:\n",
        "\\begin{equation}\n",
        "Z = W . X + b\n",
        "\\end{equation}\n",
        "\n",
        "The second step in the node is the activation function output:\n",
        "\n",
        "\\begin{equation}\n",
        "A = f(Z)\n",
        "\\end{equation}\n",
        "\n",
        "Graphical representation of a node where the two operations are performed:\n",
        "\n",
        "![ReLU](images/1_5.png)\n",
        "\n",
        "### Compiling the Model"
      ]
    },
    {
      "cell_type": "code",
      "execution_count": 34,
      "metadata": {
        "id": "oCTMPmUCtTrY",
        "colab": {
          "base_uri": "https://localhost:8080/"
        },
        "outputId": "0fdcde0e-db2a-4ca6-b04d-fe6b3b3ac59e"
      },
      "outputs": [
        {
          "output_type": "stream",
          "name": "stdout",
          "text": [
            "Model: \"sequential_1\"\n",
            "_________________________________________________________________\n",
            " Layer (type)                Output Shape              Param #   \n",
            "=================================================================\n",
            " dense_3 (Dense)             (None, 128)               100480    \n",
            "                                                                 \n",
            " dense_4 (Dense)             (None, 128)               16512     \n",
            "                                                                 \n",
            " dense_5 (Dense)             (None, 10)                1290      \n",
            "                                                                 \n",
            "=================================================================\n",
            "Total params: 118,282\n",
            "Trainable params: 118,282\n",
            "Non-trainable params: 0\n",
            "_________________________________________________________________\n"
          ]
        }
      ],
      "source": [
        "model.compile(\n",
        "    optimizer='sgd',\n",
        "    loss = 'categorical_crossentropy',\n",
        "    metrics=['accuracy']\n",
        ")\n",
        "\n",
        "model.summary()"
      ]
    },
    {
      "cell_type": "markdown",
      "metadata": {
        "id": "Krfwhw2UtTra"
      },
      "source": [
        "# Training the Model\n",
        "\n",
        "### Training the Model"
      ]
    },
    {
      "cell_type": "code",
      "execution_count": 35,
      "metadata": {
        "id": "162PsAYRtTra",
        "colab": {
          "base_uri": "https://localhost:8080/"
        },
        "outputId": "387042ac-69b2-4aa8-8f68-62bafb7c90dc"
      },
      "outputs": [
        {
          "output_type": "stream",
          "name": "stdout",
          "text": [
            "Epoch 1/3\n",
            "1875/1875 [==============================] - 7s 4ms/step - loss: 0.3718 - accuracy: 0.8924\n",
            "Epoch 2/3\n",
            "1875/1875 [==============================] - 10s 5ms/step - loss: 0.1879 - accuracy: 0.9441\n",
            "Epoch 3/3\n",
            "1875/1875 [==============================] - 12s 7ms/step - loss: 0.1426 - accuracy: 0.9581\n"
          ]
        },
        {
          "output_type": "execute_result",
          "data": {
            "text/plain": [
              "<keras.callbacks.History at 0x7f5f64cea2d0>"
            ]
          },
          "metadata": {},
          "execution_count": 35
        }
      ],
      "source": [
        "model.fit(x_train_norm, y_train_encoded, epochs=3)"
      ]
    },
    {
      "cell_type": "markdown",
      "metadata": {
        "id": "2FQNnqrbtTra"
      },
      "source": [
        "### Evaluating the Model"
      ]
    },
    {
      "cell_type": "code",
      "execution_count": 36,
      "metadata": {
        "id": "oB1VrChitTrb",
        "colab": {
          "base_uri": "https://localhost:8080/"
        },
        "outputId": "326113f1-2593-4e2d-ab42-d466832df4a8"
      },
      "outputs": [
        {
          "output_type": "stream",
          "name": "stdout",
          "text": [
            "313/313 [==============================] - 2s 4ms/step - loss: 0.1317 - accuracy: 0.9601\n",
            "Test set accuracy:  96.0099995136261\n"
          ]
        }
      ],
      "source": [
        "_, accuracy = model.evaluate(x_test_norm, y_test_encoded)\n",
        "print('Test set accuracy: ', accuracy*100)"
      ]
    },
    {
      "cell_type": "markdown",
      "metadata": {
        "id": "Wh9Vt6d_tTrb"
      },
      "source": [
        "# Predictions\n",
        "\n",
        "### Predictions on Test Set"
      ]
    },
    {
      "cell_type": "code",
      "execution_count": 37,
      "metadata": {
        "id": "DSLsqedBtTrb",
        "colab": {
          "base_uri": "https://localhost:8080/"
        },
        "outputId": "d583e7cc-3b77-44d0-b913-87ab34dd0a76"
      },
      "outputs": [
        {
          "output_type": "stream",
          "name": "stdout",
          "text": [
            "shape of preds:  (10000, 10)\n"
          ]
        }
      ],
      "source": [
        "preds = model.predict(x_test_norm)\n",
        "print('shape of preds: ', preds.shape)"
      ]
    },
    {
      "cell_type": "markdown",
      "metadata": {
        "id": "YpAWhZswtTrc"
      },
      "source": [
        "### Plotting the Results\n",
        "\n",
        "lets look at the first 25 test digits"
      ]
    },
    {
      "cell_type": "code",
      "execution_count": 42,
      "metadata": {
        "id": "nu3_wEcYtTrc",
        "colab": {
          "base_uri": "https://localhost:8080/",
          "height": 697
        },
        "outputId": "83945811-e80a-414d-91bd-165f7c5a8a6a"
      },
      "outputs": [
        {
          "output_type": "display_data",
          "data": {
            "text/plain": [
              "<Figure size 864x864 with 25 Axes>"
            ],
            "image/png": "[encoded data removed]"
          },
          "metadata": {}
        }
      ],
      "source": [
        "plt.figure(figsize=(12,12))\n",
        "\n",
        "idx = 0\n",
        "\n",
        "for i in range(25):\n",
        "  plt.subplot(5,5,i+1)\n",
        "  plt.grid(False)\n",
        "  plt.xticks([])\n",
        "  plt.yticks([])\n",
        "\n",
        "  pred = np.argmax(preds[i])\n",
        "  gt = y_test[i]\n",
        "\n",
        "  col = 'g'\n",
        "  if pred != gt:\n",
        "    col = 'r'\n",
        "\n",
        "  plt.xlabel(f'i={i}, pred={pred}, gt={gt}', color = col)\n",
        "  plt.imshow(x_test[i], cmap = 'binary')\n",
        "\n",
        "plt.show()"
      ]
    },
    {
      "cell_type": "code",
      "execution_count": 40,
      "metadata": {
        "id": "eoBq8yfDtTrc",
        "colab": {
          "base_uri": "https://localhost:8080/",
          "height": 265
        },
        "outputId": "c945ad7e-5800-4682-e917-2034a4af991f"
      },
      "outputs": [
        {
          "output_type": "display_data",
          "data": {
            "text/plain": [
              "<Figure size 432x288 with 1 Axes>"
            ],
            "image/png": "[encoded data removed]"
          },
          "metadata": {
            "needs_background": "light"
          }
        }
      ],
      "source": [
        "plt.plot(preds[8])\n",
        "plt.show()"
      ]
    }
  ],
  "metadata": {
    "kernelspec": {
      "display_name": "Python 3",
      "language": "python",
      "name": "python3"
    },
    "language_info": {
      "codemirror_mode": {
        "name": "ipython",
        "version": 3
      },
      "file_extension": ".py",
      "mimetype": "text/x-python",
      "name": "python",
      "nbconvert_exporter": "python",
      "pygments_lexer": "ipython3",
      "version": "3.7.3"
    },
    "colab": {
      "provenance": []
    }
  },
  "nbformat": 4,
  "nbformat_minor": 0
}